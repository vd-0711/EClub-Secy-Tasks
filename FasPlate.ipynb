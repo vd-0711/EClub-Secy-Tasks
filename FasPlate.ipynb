{
 "cells": [
  {
   "cell_type": "code",
   "execution_count": 1,
   "metadata": {},
   "outputs": [
    {
     "name": "stdout",
     "output_type": "stream",
     "text": [
      "Recognized License Plate Number: 4S01001392\n"
     ]
    }
   ],
   "source": [
    "import cv2\n",
    "import pytesseract\n",
    "\n",
    "def preprocess_image(image):\n",
    "    # Convert image to grayscale\n",
    "    gray = cv2.cvtColor(image, cv2.COLOR_BGR2GRAY)\n",
    "    # Apply thresholding\n",
    "    _, binary = cv2.threshold(gray, 128, 255, cv2.THRESH_BINARY)\n",
    "    return binary\n",
    "\n",
    "def recognize_license_plate(license_plate_img):\n",
    "    # Preprocess the image for better OCR accuracy\n",
    "    processed_img = preprocess_image(license_plate_img)\n",
    "    # Perform OCR using Tesseract\n",
    "    license_plate_text = pytesseract.image_to_string(processed_img, config='--psm 8')\n",
    "    return license_plate_text.strip()\n",
    "\n",
    "# Example usage\n",
    "license_plate_img = cv2.imread('plate.png')\n",
    "license_plate_number = recognize_license_plate(license_plate_img)\n",
    "print(f\"Recognized License Plate Number: {license_plate_number}\")\n"
   ]
  },
  {
   "cell_type": "code",
   "execution_count": null,
   "metadata": {},
   "outputs": [],
   "source": [
    "import sqlite3\n",
    "\n",
    "def fetch_vehicle_details(license_plate_number):\n",
    "    conn = sqlite3.connect('vehicle_database.db')\n",
    "    cursor = conn.cursor()\n",
    "    query = \"SELECT * FROM vehicles WHERE license_plate = ?\"\n",
    "    cursor.execute(query, (license_plate_number,))\n",
    "    result = cursor.fetchone()\n",
    "    conn.close()\n",
    "    return result\n",
    "\n",
    "license_plate_number = \"ABC1234\"\n",
    "vehicle_details = fetch_vehicle_details(license_plate_number)\n",
    "print(vehicle_details)\n"
   ]
  }
 ],
 "metadata": {
  "kernelspec": {
   "display_name": "Python 3",
   "language": "python",
   "name": "python3"
  },
  "language_info": {
   "codemirror_mode": {
    "name": "ipython",
    "version": 3
   },
   "file_extension": ".py",
   "mimetype": "text/x-python",
   "name": "python",
   "nbconvert_exporter": "python",
   "pygments_lexer": "ipython3",
   "version": "3.10.12"
  }
 },
 "nbformat": 4,
 "nbformat_minor": 2
}
